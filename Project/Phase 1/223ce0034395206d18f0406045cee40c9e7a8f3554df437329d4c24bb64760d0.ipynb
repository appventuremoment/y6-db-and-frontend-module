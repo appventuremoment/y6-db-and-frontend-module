{
 "cells": [
  {
   "cell_type": "markdown",
   "metadata": {
    "cell_id": "360a13e5f1e840879dd3ee474ae9b6a2",
    "deepnote_cell_type": "markdown"
   },
   "source": [
    "<P> <img src=\"https://i.ibb.co/gyNf19D/nhslogo.png\" alt=\"nhslogo\" border=\"0\" width=\"100\" align=\"right\"><font size=\"6\"><b> CS6131 Database Design</b> </font>"
   ]
  },
  {
   "cell_type": "markdown",
   "metadata": {
    "cell_id": "c08bf0bcd60c42e99459dc8b103ce3c8",
    "deepnote_cell_type": "markdown"
   },
   "source": [
    "# Project Design Phase Report Submission"
   ]
  },
  {
   "cell_type": "markdown",
   "metadata": {
    "cell_id": "31aeac52394c4deb8bd3124da96c5b45",
    "deepnote_cell_type": "markdown"
   },
   "source": [
    "### By -"
   ]
  },
  {
   "cell_type": "markdown",
   "metadata": {
    "cell_id": "5f12b4528d804955b8eb5b033749c845",
    "deepnote_cell_type": "markdown"
   },
   "source": [
    "### Submission Instructions"
   ]
  },
  {
   "cell_type": "markdown",
   "metadata": {
    "cell_id": "edf7e653a5214fe2ac0c870d506f4b6a",
    "deepnote_cell_type": "markdown"
   },
   "source": [
    "<div class=\"alert alert-block alert-info\">\n",
    "\n",
    "* You will need to submit the following files in your final project submission:\n",
    "    * Your Jupyter Notebook report. Name the report `ProjectDesignReport<YourName>.ipynb`.\n",
    "    * All relevant image files to be displayed in this report (make sure you use relative file referencing and the image will display in another computer).\n",
    "    * Attached each file one by one and upload on Coursemology.\n",
    "* Please print a copy of the final report to OneNote Individual Notebook space > Project. Double check on the image resolution. If the resolution is poor, please copy and paste the ORIGINAL clear image into the OneNote page (paste at the side of the printed image).\n",
    "\n",
    "* Any submission that fails to comply to the above instructions will result in upto 5% penalty.\n",
    "\n",
    "* You may wish to refer to the following reference to help organize and \"beautify\" your final report here. <br>\n",
    "https://thecodingbot.com/markdown-in-jupyter-ipython-notebook-cheatsheet/\n",
    "</div>"
   ]
  },
  {
   "cell_type": "markdown",
   "metadata": {
    "cell_id": "f95cb1a9e170440799e47d300378b97f",
    "deepnote_cell_type": "markdown"
   },
   "source": [
    "### Notebook link"
   ]
  },
  {
   "cell_type": "markdown",
   "metadata": {
    "cell_id": "bf211a0f5b21433dacdfc7526349f1d7",
    "deepnote_cell_type": "markdown"
   },
   "source": [
    "### Section A: Executive Summary"
   ]
  },
  {
   "cell_type": "markdown",
   "metadata": {
    "cell_id": "6db96f2bf379434588e81f745431308f",
    "deepnote_cell_type": "markdown"
   },
   "source": [
    "<div class=\"alert alert-block alert-warning\">\n",
    "    \n",
    "* Overview: A brief description of the project, its purpose, and the problem it addresses.\n",
    "\n",
    "* Goals: Outline the key objectives of the database application.\n",
    "\n",
    "* Target Users: Identify the primary stakeholders or users of the database.\n",
    "\n",
    "* Justification for using RDBMS: Briefly justify why RDBMS is suitable in your case.\n",
    "    \n",
    "</div>\n"
   ]
  },
  {
   "cell_type": "markdown",
   "metadata": {
    "cell_id": "a7dffbd4489344a0ae7ecfc7ba89c935",
    "deepnote_cell_type": "markdown"
   },
   "source": [
    "### Overview\n",
    "Admin work is usually messy, and needing to handle the details of hundreds of projects can cause many issues for teachers, which can results in changes made being lost in the process or not reflected in the most recently sent email. This project provide teachers with a dedicated application to manage the admin mattters of ARP Projects, as well as provides a platform for students to check whether their ARP Project has been listed as ready to present or not with live updates, which removes the need for teachers to send emails revising the excel file of projects that are required to present at research congress.\n",
    "\n",
    "### Goals\n",
    "This project aims to be a (theoretical) streamlined application for all ARP Project admin matters, which makes it faster and easier to manage the data. Being an RDBMS, it would also allow students to see the most recent status of their projects (whether they are ready to present).\n",
    "\n",
    "### Target Users\n",
    "Teachers overseeing the ARP admin matters and students\n",
    "\n",
    "### Justification for using RDBMS\n",
    "It is neater than simply dumping the information onto an excel sheet and sending it to students every time it is revised. (It is consistent). If two teachers were to make changes to the same project at once, the changes made will be resolved correctly rather than the final state from one device potentially overwriting changes made from the other device (Transactions are isolated)."
   ]
  },
  {
   "cell_type": "markdown",
   "metadata": {
    "cell_id": "6b6f58c7f6e4477389cef06d8f0e1771",
    "deepnote_cell_type": "markdown"
   },
   "source": [
    "### Section B: Business Rules"
   ]
  },
  {
   "cell_type": "markdown",
   "metadata": {
    "cell_id": "3d4ab16fc1054f80ac64d126ca2551a2",
    "deepnote_cell_type": "markdown"
   },
   "source": [
    "<div class=\"alert alert-block alert-warning\">\n",
    "\n",
    "Complete your writeup of the business rules here. \n",
    "    \n",
    "When writing business rules for database design, ensure they describe how the system operates in real life, using clear and simple language. Avoid technical terms (e.g., \"keys,\" \"entities\") and focus on real-world relationships and processes. The rules should easy enough for non-technical readers to understand, and yet specific and unambiguous enough for a database designer to model an EER diagram.\n",
    "\n",
    "<b>Good Example (Clear and Unambiguous):</b>\n",
    "Every student must be enrolled in at least one course. Each course can have many students, but a course cannot exist without at least one student enrolled. A student may also enroll in multiple courses.\n",
    "\n",
    "<b>Bad Example (Unclear and Technical):</b>\n",
    "Students are linked to courses with a many-to-many relationship. Foreign keys exist between tables for this purpose.\n",
    "    \n",
    "</div>\n"
   ]
  },
  {
   "cell_type": "markdown",
   "metadata": {
    "cell_id": "3acf7832ed684e899dabf1ee40e52224",
    "deepnote_cell_type": "markdown"
   },
   "source": [
    "Every student must have at least one project, but can have more than one. Projects can have more than 1 student working on them.\n",
    "\n",
    "Every project can have up to one publication and multiple awards/achievements, or none at all. Projects need exactly one in-school mentor handling admin work, and need exactly one mentor overseeing the project. In-school mentors must handle admin work for at least one project, and do so for multiple projects. Overseeing mentors must oversee at least one project, and can do so for multiple projects at the same time.\n",
    "\n",
    "External companies can offer multiple projects and have multiple mentors overseeing projects. Overseeing mentors may be part of an external company. A company cannot exist without at least one project and at least one mentor overseeing project."
   ]
  },
  {
   "cell_type": "markdown",
   "metadata": {
    "cell_id": "d11717cf6bd7461b83b1f602acf45a93",
    "deepnote_cell_type": "markdown"
   },
   "source": [
    "### Section C: EER Model"
   ]
  },
  {
   "cell_type": "markdown",
   "metadata": {
    "cell_id": "1d422603e3a746afb093716d6ef1ee93",
    "deepnote_cell_type": "markdown"
   },
   "source": [
    "<div class=\"alert alert-block alert-warning\">\n",
    "You are to use Visio to do your diagramming. Attach a high resolution image of your EER Model here. Please also share the direct link of the visio diagram used to complete the EER with your teacher.\n",
    "</div>\n"
   ]
  },
  {
   "cell_type": "markdown",
   "metadata": {
    "cell_id": "8c2d07e6dcd945afaa2f63d51e4f7016",
    "deepnote_cell_type": "markdown"
   },
   "source": [
    "![Project Proposal ER Diagram.png](<Project Proposal ER Diagram.png>)"
   ]
  },
  {
   "cell_type": "markdown",
   "metadata": {
    "cell_id": "ed3ca9c0d1184e87bdc1672e726c8d24",
    "deepnote_cell_type": "markdown"
   },
   "source": [
    "Since coursemology stated that we should be using Visual Paradigm Online for ER models, I will be using that instead."
   ]
  },
  {
   "cell_type": "markdown",
   "metadata": {
    "cell_id": "78e3243f764a4948b6109d58e08a8c02",
    "deepnote_cell_type": "markdown"
   },
   "source": [
    "### Section D: Relational Model"
   ]
  },
  {
   "cell_type": "markdown",
   "metadata": {
    "cell_id": "aea2286266e042c89fe11ed4da9679a0",
    "deepnote_cell_type": "markdown"
   },
   "source": [
    "<div class=\"alert alert-block alert-warning\">\n",
    "Attached the image of your Relational Model here. You should use Box-Style notation only. All foregin keys must be properly and NEATLY indicated.\n",
    "</div>\n"
   ]
  },
  {
   "cell_type": "markdown",
   "metadata": {
    "cell_id": "821008d055044533b93b043828c88a40",
    "deepnote_cell_type": "markdown"
   },
   "source": [
    "![CS Proj Relational Model.png](<CS Proj Relational Model.png>)"
   ]
  },
  {
   "cell_type": "markdown",
   "metadata": {
    "cell_id": "dd1eea6119ca4e53996d0ac08186ae49",
    "deepnote_cell_type": "markdown"
   },
   "source": [
    "<div class=\"alert alert-block alert-warning\">\n",
    "Justify your mapping strategy from ER to relational, particularly if the approach deviates from the norm, or you have inheritance in your ER model (i.e. which strategy is adopted for inheritance mapping and why).\n",
    "</div>\n"
   ]
  },
  {
   "cell_type": "markdown",
   "metadata": {
    "cell_id": "4b2491966137445ea5beddc09fd1003e",
    "deepnote_cell_type": "markdown"
   },
   "source": [
    "For all relations, the foreign key method is used since for 1:N relations, that is the only method. For the 1:1 relation, there is only one such relation (which is publication to project), and the foreign key method is chosen since only publication has a total participation."
   ]
  },
  {
   "cell_type": "markdown",
   "metadata": {
    "cell_id": "750dcc5d70a041338a305c1dd8ebc858",
    "deepnote_cell_type": "markdown"
   },
   "source": [
    "<div class=\"alert alert-block alert-warning\">\n",
    "If the relational schema mapped from the ER is not in 3NF, propose relevant normalization to make all relations in 3NF. You may leave this part blank if no further normalization is required.\n",
    "</div>\n"
   ]
  },
  {
   "cell_type": "markdown",
   "metadata": {
    "cell_id": "ae7c2d108bb7461ca97dd3a95d017c8c",
    "deepnote_cell_type": "markdown"
   },
   "source": [
    "None needed"
   ]
  },
  {
   "cell_type": "markdown",
   "metadata": {
    "cell_id": "81d7f9c6c8104f8c96d4fd0e58fcf305",
    "deepnote_cell_type": "markdown"
   },
   "source": [
    "### Section E: Schema Validation Using Conceptual User Needs"
   ]
  },
  {
   "cell_type": "markdown",
   "metadata": {
    "cell_id": "f8cd04b30c7b4dbfb55f4b8394864870",
    "deepnote_cell_type": "markdown"
   },
   "source": [
    "<div class=\"alert alert-block alert-warning\">\n",
    "Provide 2 conceptual user needs each of the 2 distinct user roles:\n",
    "\n",
    "* Admin User: Define tasks or questions an admin user needs to perform or answer using the database (usually analytics in dashboard).\n",
    "* Normal User: Define tasks or questions a typical user (e.g., a customer, student, or employee) needs to perform or answer using the database.\n",
    "    \n",
    "For each need:\n",
    "* Clearly describe the user requirement in plain, everyday language.\n",
    "* List the entities and relationships in the EER model that are involved in supporting this need.\n",
    "* Describe how the EER model supports the user need, focusing on how entities are connected.\n",
    "      \n",
    "</div>\n"
   ]
  },
  {
   "cell_type": "markdown",
   "metadata": {
    "cell_id": "4cd7b59eb9f8418fbb90f6c2124a294e",
    "deepnote_cell_type": "markdown"
   },
   "source": [
    "### Admin User\n",
    "1. User Need: Teachers should be able to view the number of projects based on a number of different filters (field of study, project offered by certain external companies, how many students are working on the project).\n",
    "\n",
    "\n",
    "2. Entities and Relationships Involved:\n",
    "* Entities: All entities, but for the specified examples Project, External Company, Student\n",
    "* Relationships: Project to External Company, Student to Project\n",
    "\n",
    "\n",
    "3. EER Model Support: Projects can be sorted based on their field of study and counted for the first one. The number of entries of Project to External Company relationship for a specific External Company can be counted for the second one. The number of entries of Student to Project relationship for every single project can be tallied and sorted based on that so that it can be counted for the third one.\n",
    "\n",
    "\n",
    "### Normal User\n",
    "1. User Need: Students should be able to easily tell if their projects are considered ready to be presented by the teachers.\n",
    "\n",
    "\n",
    "2. Entities and Relationships Involved:\n",
    "* Entities: Student, Project\n",
    "* Relationships: Student to project\n",
    "\n",
    "\n",
    "3. EER Model Support: The student to project relationship allows students to find themselves and hence their projects in the list, and from the ready_to_present attribute, determine if their project is considered ready to be presented"
   ]
  },
  {
   "cell_type": "markdown",
   "metadata": {
    "cell_id": "cbf6a423b3b9404380cffec88c99a0a1",
    "deepnote_cell_type": "markdown"
   },
   "source": [
    "### Contribution Log"
   ]
  },
  {
   "cell_type": "markdown",
   "metadata": {
    "cell_id": "0bf523692d85490abf2345069e8c133c",
    "deepnote_cell_type": "markdown"
   },
   "source": [
    "<div class=\"alert alert-block alert-warning\">\n",
    "Clearly state the contribution of each member below:\n",
    "</div>\n"
   ]
  },
  {
   "cell_type": "markdown",
   "metadata": {
    "cell_id": "3ce9108ff05249a18e016825e2d94d43",
    "deepnote_cell_type": "markdown"
   },
   "source": [
    "-"
   ]
  },
  {
   "cell_type": "markdown",
   "metadata": {
    "cell_id": "5a2be94c36b34705a8e5f211d9aa3bc3",
    "deepnote_cell_type": "markdown"
   },
   "source": [
    "| Task/Module               | Contribution Details                |\n",
    "|---------------------------|-------------------------------------|\n",
    "| Section A: Executive Summary | Finished the section |\n",
    "| Section B: Business Rules | Finished the section |\n",
    "| Section C: EER Model | Finished the section |\n",
    "| Section D: Relational Model | Finished the section |\n",
    "| Section E: Schema Validation Using Conceptual User Needs | Finished the section |"
   ]
  },
  {
   "cell_type": "markdown",
   "metadata": {
    "cell_id": "7b091c1b7a944575a19b1d0360be39f2",
    "deepnote_cell_type": "markdown",
    "slideshow": {
     "slide_type": "skip"
    }
   },
   "source": [
    "<hr>\n",
    "© NUS High School of Math & Science"
   ]
  },
  {
   "cell_type": "markdown",
   "metadata": {
    "created_in_deepnote_cell": true,
    "deepnote_cell_type": "markdown"
   },
   "source": [
    "<a style='text-decoration:none;line-height:16px;display:flex;color:#5B5B62;padding:10px;justify-content:end;' href='https://deepnote.com?utm_source=created-in-deepnote-cell&projectId=64c265f2-2d4a-43ee-8f67-b1276c232a55' target=\"_blank\">\n",
    "<img alt='Created in deepnote.com' style='display:inline;max-height:16px;margin:0px;margin-right:7.5px;' src='data:image/svg+xml;base64,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' > </img>\n",
    "Created in <span style='font-weight:600;margin-left:4px;'>Deepnote</span></a>"
   ]
  }
 ],
 "metadata": {
  "deepnote_notebook_id": "efc281a0892f42508ae324a919712d0f",
  "language_info": {
   "name": "python"
  }
 },
 "nbformat": 4,
 "nbformat_minor": 0
}
